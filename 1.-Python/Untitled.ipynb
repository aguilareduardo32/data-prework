{
 "cells": [
  {
   "cell_type": "code",
   "execution_count": 2,
   "metadata": {},
   "outputs": [
    {
     "name": "stdout",
     "output_type": "stream",
     "text": [
      "snail going up\n",
      "snail going up\n",
      "snail going up\n",
      "snail going up\n",
      "snail going up\n",
      "snail going up\n",
      "snail going up\n",
      "snail going up\n",
      "snail going up\n",
      "snail going up\n",
      "snail going up\n",
      "snail going up\n",
      "snail going up\n",
      "13\n"
     ]
    }
   ],
   "source": [
    "well_height = 125\n",
    "daily_distance = 30\n",
    "nightly_distance = -20\n",
    "snail_position = 0\n",
    "\n",
    "day_night_total = daily_distance + nightly_distance \n",
    "\n",
    "\n",
    "days = 0\n",
    "\n",
    "\n",
    "while snail_position < well_height:\n",
    "    print(\"snail going up\")\n",
    "    snail_position += day_night_total\n",
    "    days += 1\n",
    "print(days)"
   ]
  },
  {
   "cell_type": "code",
   "execution_count": 24,
   "metadata": {},
   "outputs": [
    {
     "name": "stdout",
     "output_type": "stream",
     "text": [
      "30\n",
      "51\n",
      "84\n",
      "161\n",
      "161\n"
     ]
    }
   ],
   "source": [
    "\n",
    "      \n",
    "\n",
    " \n",
    "\n",
    "   \n",
    "            \n",
    "print(walk)\n",
    "           "
   ]
  },
  {
   "cell_type": "code",
   "execution_count": null,
   "metadata": {},
   "outputs": [],
   "source": []
  },
  {
   "cell_type": "code",
   "execution_count": null,
   "metadata": {},
   "outputs": [],
   "source": []
  }
 ],
 "metadata": {
  "kernelspec": {
   "display_name": "Python 3",
   "language": "python",
   "name": "python3"
  },
  "language_info": {
   "codemirror_mode": {
    "name": "ipython",
    "version": 3
   },
   "file_extension": ".py",
   "mimetype": "text/x-python",
   "name": "python",
   "nbconvert_exporter": "python",
   "pygments_lexer": "ipython3",
   "version": "3.8.3"
  }
 },
 "nbformat": 4,
 "nbformat_minor": 4
}
